{
  "cells": [
    {
      "cell_type": "markdown",
      "metadata": {
        "id": "view-in-github",
        "colab_type": "text"
      },
      "source": [
        "<a href=\"https://colab.research.google.com/github/BigMamaLlama/Running-Data-Science-Project/blob/main/data_science_exploration_AmanPatel.ipynb\" target=\"_parent\"><img src=\"https://colab.research.google.com/assets/colab-badge.svg\" alt=\"Open In Colab\"/></a>"
      ]
    },
    {
      "cell_type": "code",
      "execution_count": 1,
      "metadata": {
        "colab": {
          "base_uri": "https://localhost:8080/",
          "height": 73
        },
        "id": "jluS5mFpnoyQ",
        "outputId": "7d9a9627-9f3d-4a32-f4cf-1c9c7de3db80"
      },
      "outputs": [
        {
          "output_type": "display_data",
          "data": {
            "text/plain": [
              "<IPython.core.display.HTML object>"
            ],
            "text/html": [
              "\n",
              "     <input type=\"file\" id=\"files-cb8831b0-f591-4e46-bb84-0b8a09bc48a5\" name=\"files[]\" multiple disabled\n",
              "        style=\"border:none\" />\n",
              "     <output id=\"result-cb8831b0-f591-4e46-bb84-0b8a09bc48a5\">\n",
              "      Upload widget is only available when the cell has been executed in the\n",
              "      current browser session. Please rerun this cell to enable.\n",
              "      </output>\n",
              "      <script>// Copyright 2017 Google LLC\n",
              "//\n",
              "// Licensed under the Apache License, Version 2.0 (the \"License\");\n",
              "// you may not use this file except in compliance with the License.\n",
              "// You may obtain a copy of the License at\n",
              "//\n",
              "//      http://www.apache.org/licenses/LICENSE-2.0\n",
              "//\n",
              "// Unless required by applicable law or agreed to in writing, software\n",
              "// distributed under the License is distributed on an \"AS IS\" BASIS,\n",
              "// WITHOUT WARRANTIES OR CONDITIONS OF ANY KIND, either express or implied.\n",
              "// See the License for the specific language governing permissions and\n",
              "// limitations under the License.\n",
              "\n",
              "/**\n",
              " * @fileoverview Helpers for google.colab Python module.\n",
              " */\n",
              "(function(scope) {\n",
              "function span(text, styleAttributes = {}) {\n",
              "  const element = document.createElement('span');\n",
              "  element.textContent = text;\n",
              "  for (const key of Object.keys(styleAttributes)) {\n",
              "    element.style[key] = styleAttributes[key];\n",
              "  }\n",
              "  return element;\n",
              "}\n",
              "\n",
              "// Max number of bytes which will be uploaded at a time.\n",
              "const MAX_PAYLOAD_SIZE = 100 * 1024;\n",
              "\n",
              "function _uploadFiles(inputId, outputId) {\n",
              "  const steps = uploadFilesStep(inputId, outputId);\n",
              "  const outputElement = document.getElementById(outputId);\n",
              "  // Cache steps on the outputElement to make it available for the next call\n",
              "  // to uploadFilesContinue from Python.\n",
              "  outputElement.steps = steps;\n",
              "\n",
              "  return _uploadFilesContinue(outputId);\n",
              "}\n",
              "\n",
              "// This is roughly an async generator (not supported in the browser yet),\n",
              "// where there are multiple asynchronous steps and the Python side is going\n",
              "// to poll for completion of each step.\n",
              "// This uses a Promise to block the python side on completion of each step,\n",
              "// then passes the result of the previous step as the input to the next step.\n",
              "function _uploadFilesContinue(outputId) {\n",
              "  const outputElement = document.getElementById(outputId);\n",
              "  const steps = outputElement.steps;\n",
              "\n",
              "  const next = steps.next(outputElement.lastPromiseValue);\n",
              "  return Promise.resolve(next.value.promise).then((value) => {\n",
              "    // Cache the last promise value to make it available to the next\n",
              "    // step of the generator.\n",
              "    outputElement.lastPromiseValue = value;\n",
              "    return next.value.response;\n",
              "  });\n",
              "}\n",
              "\n",
              "/**\n",
              " * Generator function which is called between each async step of the upload\n",
              " * process.\n",
              " * @param {string} inputId Element ID of the input file picker element.\n",
              " * @param {string} outputId Element ID of the output display.\n",
              " * @return {!Iterable<!Object>} Iterable of next steps.\n",
              " */\n",
              "function* uploadFilesStep(inputId, outputId) {\n",
              "  const inputElement = document.getElementById(inputId);\n",
              "  inputElement.disabled = false;\n",
              "\n",
              "  const outputElement = document.getElementById(outputId);\n",
              "  outputElement.innerHTML = '';\n",
              "\n",
              "  const pickedPromise = new Promise((resolve) => {\n",
              "    inputElement.addEventListener('change', (e) => {\n",
              "      resolve(e.target.files);\n",
              "    });\n",
              "  });\n",
              "\n",
              "  const cancel = document.createElement('button');\n",
              "  inputElement.parentElement.appendChild(cancel);\n",
              "  cancel.textContent = 'Cancel upload';\n",
              "  const cancelPromise = new Promise((resolve) => {\n",
              "    cancel.onclick = () => {\n",
              "      resolve(null);\n",
              "    };\n",
              "  });\n",
              "\n",
              "  // Wait for the user to pick the files.\n",
              "  const files = yield {\n",
              "    promise: Promise.race([pickedPromise, cancelPromise]),\n",
              "    response: {\n",
              "      action: 'starting',\n",
              "    }\n",
              "  };\n",
              "\n",
              "  cancel.remove();\n",
              "\n",
              "  // Disable the input element since further picks are not allowed.\n",
              "  inputElement.disabled = true;\n",
              "\n",
              "  if (!files) {\n",
              "    return {\n",
              "      response: {\n",
              "        action: 'complete',\n",
              "      }\n",
              "    };\n",
              "  }\n",
              "\n",
              "  for (const file of files) {\n",
              "    const li = document.createElement('li');\n",
              "    li.append(span(file.name, {fontWeight: 'bold'}));\n",
              "    li.append(span(\n",
              "        `(${file.type || 'n/a'}) - ${file.size} bytes, ` +\n",
              "        `last modified: ${\n",
              "            file.lastModifiedDate ? file.lastModifiedDate.toLocaleDateString() :\n",
              "                                    'n/a'} - `));\n",
              "    const percent = span('0% done');\n",
              "    li.appendChild(percent);\n",
              "\n",
              "    outputElement.appendChild(li);\n",
              "\n",
              "    const fileDataPromise = new Promise((resolve) => {\n",
              "      const reader = new FileReader();\n",
              "      reader.onload = (e) => {\n",
              "        resolve(e.target.result);\n",
              "      };\n",
              "      reader.readAsArrayBuffer(file);\n",
              "    });\n",
              "    // Wait for the data to be ready.\n",
              "    let fileData = yield {\n",
              "      promise: fileDataPromise,\n",
              "      response: {\n",
              "        action: 'continue',\n",
              "      }\n",
              "    };\n",
              "\n",
              "    // Use a chunked sending to avoid message size limits. See b/62115660.\n",
              "    let position = 0;\n",
              "    do {\n",
              "      const length = Math.min(fileData.byteLength - position, MAX_PAYLOAD_SIZE);\n",
              "      const chunk = new Uint8Array(fileData, position, length);\n",
              "      position += length;\n",
              "\n",
              "      const base64 = btoa(String.fromCharCode.apply(null, chunk));\n",
              "      yield {\n",
              "        response: {\n",
              "          action: 'append',\n",
              "          file: file.name,\n",
              "          data: base64,\n",
              "        },\n",
              "      };\n",
              "\n",
              "      let percentDone = fileData.byteLength === 0 ?\n",
              "          100 :\n",
              "          Math.round((position / fileData.byteLength) * 100);\n",
              "      percent.textContent = `${percentDone}% done`;\n",
              "\n",
              "    } while (position < fileData.byteLength);\n",
              "  }\n",
              "\n",
              "  // All done.\n",
              "  yield {\n",
              "    response: {\n",
              "      action: 'complete',\n",
              "    }\n",
              "  };\n",
              "}\n",
              "\n",
              "scope.google = scope.google || {};\n",
              "scope.google.colab = scope.google.colab || {};\n",
              "scope.google.colab._files = {\n",
              "  _uploadFiles,\n",
              "  _uploadFilesContinue,\n",
              "};\n",
              "})(self);\n",
              "</script> "
            ]
          },
          "metadata": {}
        },
        {
          "output_type": "stream",
          "name": "stdout",
          "text": [
            "Saving week_approach_maskedID_timeseries.csv to week_approach_maskedID_timeseries.csv\n"
          ]
        }
      ],
      "source": [
        "from google.colab import files\n",
        "uploaded = files.upload()\n"
      ]
    },
    {
      "cell_type": "code",
      "execution_count": 2,
      "metadata": {
        "colab": {
          "base_uri": "https://localhost:8080/"
        },
        "id": "m9MwHePbuEev",
        "outputId": "a3a3f939-1340-4549-fc9c-5117a6838f0e"
      },
      "outputs": [
        {
          "output_type": "stream",
          "name": "stdout",
          "text": [
            "<class 'pandas.core.frame.DataFrame'>\n",
            "RangeIndex: 42798 entries, 0 to 42797\n",
            "Data columns (total 41 columns):\n",
            " #   Column                                         Non-Null Count  Dtype  \n",
            "---  ------                                         --------------  -----  \n",
            " 0   nr. sessions                                   42798 non-null  float64\n",
            " 1   nr. rest days                                  42798 non-null  float64\n",
            " 2   total kms                                      42798 non-null  float64\n",
            " 3   total km Z3-Z4-Z5-T1-T2                        42798 non-null  float64\n",
            " 4   nr. tough sessions (effort in Z5, T1 or T2)    42798 non-null  float64\n",
            " 5   nr. days with interval session                 42798 non-null  float64\n",
            " 6   total km Z3-4                                  42798 non-null  float64\n",
            " 7   max km Z3-4 one day                            42798 non-null  float64\n",
            " 8   total km Z5-T1-T2                              42798 non-null  float64\n",
            " 9   max km Z5-T1-T2 one day                        42798 non-null  float64\n",
            " 10  total hours alternative training               42798 non-null  float64\n",
            " 11  nr. strength trainings                         42798 non-null  float64\n",
            " 12  nr. sessions.1                                 42798 non-null  float64\n",
            " 13  nr. rest days.1                                42798 non-null  float64\n",
            " 14  total kms.1                                    42798 non-null  float64\n",
            " 15  max km one day.1                               42798 non-null  float64\n",
            " 16  total km Z3-Z4-Z5-T1-T2.1                      42798 non-null  float64\n",
            " 17  nr. tough sessions (effort in Z5, T1 or T2).1  42798 non-null  float64\n",
            " 18  nr. days with interval session.1               42798 non-null  float64\n",
            " 19  total km Z3-4.1                                42798 non-null  float64\n",
            " 20  max km Z3-4 one day.1                          42798 non-null  float64\n",
            " 21  total km Z5-T1-T2.1                            42798 non-null  float64\n",
            " 22  max km Z5-T1-T2 one day.1                      42798 non-null  float64\n",
            " 23  total hours alternative training.1             42798 non-null  float64\n",
            " 24  nr. strength trainings.1                       42798 non-null  float64\n",
            " 25  nr. sessions.2                                 42798 non-null  float64\n",
            " 26  nr. rest days.2                                42798 non-null  float64\n",
            " 27  total kms.2                                    42798 non-null  float64\n",
            " 28  max km one day.2                               42798 non-null  float64\n",
            " 29  total km Z3-Z4-Z5-T1-T2.2                      42798 non-null  float64\n",
            " 30  nr. tough sessions (effort in Z5, T1 or T2).2  42798 non-null  float64\n",
            " 31  nr. days with interval session.2               42798 non-null  float64\n",
            " 32  total km Z3-4.2                                42798 non-null  float64\n",
            " 33  max km Z3-4 one day.2                          42798 non-null  float64\n",
            " 34  total km Z5-T1-T2.2                            42798 non-null  float64\n",
            " 35  max km Z5-T1-T2 one day.2                      42798 non-null  float64\n",
            " 36  total hours alternative training.2             42798 non-null  float64\n",
            " 37  nr. strength trainings.2                       42798 non-null  float64\n",
            " 38  Athlete ID                                     42798 non-null  int64  \n",
            " 39  injury                                         42798 non-null  int64  \n",
            " 40  Date                                           42798 non-null  int64  \n",
            "dtypes: float64(38), int64(3)\n",
            "memory usage: 13.4 MB\n"
          ]
        }
      ],
      "source": [
        "import pandas as pd\n",
        "import io\n",
        "import matplotlib.pyplot as plt\n",
        "import seaborn as sns\n",
        "from sklearn.model_selection import train_test_split\n",
        "from sklearn.neighbors import KNeighborsClassifier\n",
        "from sklearn.preprocessing import StandardScaler\n",
        "from sklearn.svm import SVC\n",
        "from sklearn.metrics import classification_report, confusion_matrix, accuracy_score\n",
        "df = pd.read_csv(io.StringIO(uploaded['week_approach_maskedID_timeseries.csv'].decode('utf-8')))\n",
        "df = df.drop(['avg training success', 'min training success', 'max training success', 'avg training success.1', 'max training success.1', 'min training success.1'], axis = 1)\n",
        "df = df.drop(['avg training success.2', 'max training success.2', 'min training success.2', 'avg exertion', 'min exertion', 'max exertion'], axis = 1)\n",
        "df = df.drop(['avg exertion.1', 'min exertion.1', 'max exertion.1', 'avg exertion.2', 'min exertion.2', 'max exertion.2', 'max km one day'], axis = 1)\n",
        "df = df.drop(['avg recovery', 'min recovery', 'max recovery', 'avg recovery.1', 'min recovery.1', 'max recovery.1', 'avg recovery.2', 'min recovery.2', 'max recovery.2'], axis = 1)\n",
        "df = df.drop(['rel total kms week 0_1', 'rel total kms week 0_2', 'rel total kms week 1_2'], axis = 1)\n",
        "df.info()"
      ]
    },
    {
      "cell_type": "code",
      "execution_count": 3,
      "metadata": {
        "id": "2SLL7gCjGC1b",
        "colab": {
          "base_uri": "https://localhost:8080/",
          "height": 374
        },
        "outputId": "57ff45f7-3f6a-4f3c-dea3-88a2c5cc5086"
      },
      "outputs": [
        {
          "output_type": "display_data",
          "data": {
            "text/plain": [
              "<Figure size 1008x432 with 1 Axes>"
            ],
            "image/png": "[encoded data removed]"
          },
          "metadata": {
            "needs_background": "light"
          }
        }
      ],
      "source": [
        "def indexIndividualData(id):\n",
        "  df0 = df[df['Athlete ID'] == id]\n",
        "  index1 = df0.index[0]\n",
        "  indexLast = df0.index[-1]\n",
        "  y = indexLast - len(df0[df0['injury']==0]) - len(df0[df0['injury']==1])\n",
        "  df0 = df0.rename(index = lambda x: x - y - 1 if x > indexLast - len(df0[df0['injury']==1]) else x - index1)\n",
        "  df0 = df0.sort_values(by = 'Date')\n",
        "  return df0\n",
        "def plotIndividualData(id, column):\n",
        "  df0 = indexIndividualData(id)\n",
        "  plt.figure(figsize = (14,6))\n",
        "  sns.lineplot(data=df0[column])\n",
        "plotIndividualData(1, 'total kms')"
      ]
    },
    {
      "cell_type": "code",
      "source": [
        "#SVM classifier using undersampling\n",
        "from imblearn.under_sampling import RandomUnderSampler\n",
        "X = df.drop('injury', axis = 1)\n",
        "Y = df['injury']\n",
        "X_train, X_test, Y_train, Y_test = train_test_split(X, Y, test_size = 0.25, stratify = Y)\n",
        "rus = RandomUnderSampler(random_state=0)\n",
        "X_train, Y_train =rus.fit_resample(X_train,Y_train)\n",
        "sc = StandardScaler()\n",
        "X_train = sc.fit_transform(X_train)\n",
        "X_test = sc.transform(X_test)\n",
        "classifier = SVC(kernel = 'rbf', random_state = 0)\n",
        "classifier.fit(X_train, Y_train)\n",
        "Y_pred = classifier.predict(X_test)\n",
        "print(confusion_matrix(Y_test, Y_pred))"
      ],
      "metadata": {
        "colab": {
          "base_uri": "https://localhost:8080/"
        },
        "id": "tleq2iqBln2q",
        "outputId": "8cb9530b-7265-45cb-bd4c-89b640340376"
      },
      "execution_count": 4,
      "outputs": [
        {
          "output_type": "stream",
          "name": "stdout",
          "text": [
            "[[5933 4623]\n",
            " [  54   90]]\n"
          ]
        }
      ]
    },
    {
      "cell_type": "code",
      "source": [
        "#SVM Classifier using oversampling\n",
        "from imblearn.over_sampling import SMOTE\n",
        "X = df.drop('injury', axis = 1)\n",
        "Y = df['injury']\n",
        "X_train, X_test, Y_train, Y_test = train_test_split(X, Y, test_size = 0.25, stratify = Y)\n",
        "sm = SMOTE(random_state = 0)\n",
        "X_train, Y_train = sm.fit_resample(X_train,Y_train)\n",
        "sc = StandardScaler()\n",
        "X_train = sc.fit_transform(X_train)\n",
        "X_test = sc.transform(X_test)\n",
        "classifier = SVC(kernel = 'rbf', random_state = 0)\n",
        "classifier.fit(X_train, Y_train)\n",
        "Y_pred = classifier.predict(X_test)\n",
        "print(confusion_matrix(Y_test, Y_pred))"
      ],
      "metadata": {
        "colab": {
          "base_uri": "https://localhost:8080/"
        },
        "id": "YIwI4qfKS6qM",
        "outputId": "4035d689-a950-47b1-eb02-9f26a51188ba"
      },
      "execution_count": 5,
      "outputs": [
        {
          "output_type": "stream",
          "name": "stdout",
          "text": [
            "[[10018   538]\n",
            " [  125    19]]\n"
          ]
        }
      ]
    },
    {
      "cell_type": "code",
      "source": [
        "#Bagging Classifier With Undersampling\n",
        "import sklearn.ensemble\n",
        "X = df.drop('injury', axis = 1)\n",
        "Y = df['injury']\n",
        "X_train, X_test, Y_train, Y_test = train_test_split(X, Y, test_size = 0.25, stratify = Y)\n",
        "rus = RandomUnderSampler(random_state=0)\n",
        "X_train, Y_train =rus.fit_resample(X_train,Y_train)\n",
        "sc = StandardScaler()\n",
        "X_train = sc.fit_transform(X_train)\n",
        "X_test = sc.transform(X_test)\n",
        "bag = sklearn.ensemble.BaggingClassifier(n_estimators = 30)\n",
        "bag.fit(X_train, Y_train)\n",
        "Y_pred = bag.predict(X_test)\n",
        "print(confusion_matrix(Y_test, Y_pred))\n"
      ],
      "metadata": {
        "colab": {
          "base_uri": "https://localhost:8080/"
        },
        "id": "N7ZcMNjUfTxP",
        "outputId": "80b69983-317d-4e3e-9e61-113ea0da56d9"
      },
      "execution_count": 6,
      "outputs": [
        {
          "output_type": "stream",
          "name": "stdout",
          "text": [
            "[[6238 4318]\n",
            " [  53   91]]\n"
          ]
        }
      ]
    },
    {
      "cell_type": "code",
      "source": [
        "#Bagging Classifier With Oversampling\n",
        "import sklearn.ensemble\n",
        "X = df.drop('injury', axis = 1)\n",
        "Y = df['injury']\n",
        "X_train, X_test, Y_train, Y_test = train_test_split(X, Y, test_size = 0.25, stratify = Y)\n",
        "sm = SMOTE(random_state = 0)\n",
        "X_train, Y_train = sm.fit_resample(X_train,Y_train)\n",
        "sc = StandardScaler()\n",
        "X_train = sc.fit_transform(X_train)\n",
        "X_test = sc.transform(X_test)\n",
        "bag = sklearn.ensemble.BaggingClassifier(n_estimators = 30)\n",
        "bag.fit(X_train, Y_train)\n",
        "Y_pred = bag.predict(X_test)\n",
        "print(confusion_matrix(Y_test, Y_pred))"
      ],
      "metadata": {
        "colab": {
          "base_uri": "https://localhost:8080/"
        },
        "id": "Bj7NDPJ-kXjZ",
        "outputId": "6138c047-f8fe-452f-8228-d39aebd0667f"
      },
      "execution_count": 7,
      "outputs": [
        {
          "output_type": "stream",
          "name": "stdout",
          "text": [
            "[[10545    11]\n",
            " [  144     0]]\n"
          ]
        }
      ]
    },
    {
      "cell_type": "code",
      "source": [
        "#XGBooster model with Undersampling\n",
        "from xgboost import XGBClassifier\n",
        "X = df.drop('injury', axis = 1)\n",
        "Y = df['injury']\n",
        "X_train, X_test, Y_train, Y_test = train_test_split(X, Y, test_size = 0.25, stratify = Y)\n",
        "rus = RandomUnderSampler(random_state=0)\n",
        "X_train, Y_train =rus.fit_resample(X_train,Y_train)\n",
        "boost = XGBClassifier(max_depth = 3, n_estimators = 30)\n",
        "boost.fit(X_train, Y_train)\n",
        "Y_pred = boost.predict(X_test)\n",
        "print(confusion_matrix(Y_test, Y_pred))"
      ],
      "metadata": {
        "colab": {
          "base_uri": "https://localhost:8080/"
        },
        "id": "krB_FEVr6AHt",
        "outputId": "afd45c93-f1c7-4eeb-9dd2-2df51b918aab"
      },
      "execution_count": 16,
      "outputs": [
        {
          "output_type": "stream",
          "name": "stdout",
          "text": [
            "[[5700 4856]\n",
            " [  33  111]]\n"
          ]
        }
      ]
    },
    {
      "cell_type": "code",
      "source": [
        "#XGBooster model with Oversampling\n",
        "from xgboost import XGBClassifier\n",
        "X = df.drop('injury', axis = 1)\n",
        "Y = df['injury']\n",
        "X_train, X_test, Y_train, Y_test = train_test_split(X, Y, test_size = 0.25, stratify = Y)\n",
        "sm = SMOTE(random_state = 0)\n",
        "X_train, Y_train = sm.fit_resample(X_train,Y_train)\n",
        "boost = XGBClassifier(max_depth = 2, n_estimators = 30)\n",
        "boost.fit(X_train, Y_train)\n",
        "Y_pred = boost.predict(X_test)\n",
        "print(confusion_matrix(Y_test, Y_pred))"
      ],
      "metadata": {
        "colab": {
          "base_uri": "https://localhost:8080/"
        },
        "id": "258toV7F7Jc2",
        "outputId": "88f3349f-f896-4fea-e17c-221075a5104c"
      },
      "execution_count": 19,
      "outputs": [
        {
          "output_type": "stream",
          "name": "stdout",
          "text": [
            "[[10002   554]\n",
            " [  129    15]]\n"
          ]
        }
      ]
    }
  ],
  "metadata": {
    "colab": {
      "provenance": [],
      "include_colab_link": true
    },
    "kernelspec": {
      "display_name": "Python 3",
      "name": "python3"
    },
    "language_info": {
      "name": "python"
    }
  },
  "nbformat": 4,
  "nbformat_minor": 0
}